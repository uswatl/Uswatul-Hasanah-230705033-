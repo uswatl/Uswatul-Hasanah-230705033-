{
  "nbformat": 4,
  "nbformat_minor": 0,
  "metadata": {
    "colab": {
      "name": "sesi2.ipynb",
      "provenance": [],
      "include_colab_link": true
    },
    "kernelspec": {
      "name": "python3",
      "display_name": "Python 3"
    }
  },
  "cells": [
    {
      "cell_type": "markdown",
      "metadata": {
        "id": "view-in-github",
        "colab_type": "text"
      },
      "source": [
        "<a href=\"https://colab.research.google.com/github/uswatl/Uswatul-Hasanah-230705033-/blob/main/sesi2.ipynb\" target=\"_parent\"><img src=\"https://colab.research.google.com/assets/colab-badge.svg\" alt=\"Open In Colab\"/></a>"
      ]
    },
    {
      "cell_type": "markdown",
      "metadata": {
        "id": "Xkjri5kZjrHt"
      },
      "source": [
        "**Menentukan apakah suatu bilangan genap atau ganjil**"
      ]
    },
    {
      "cell_type": "code",
      "metadata": {
        "id": "mafJ01Ftjyfi",
        "colab": {
          "base_uri": "https://localhost:8080/"
        },
        "outputId": "222287f5-143b-4768-e7ad-1284ca0213fe"
      },
      "source": [
        "\n",
        "# Program untuk menentukan apakah sebuah bilangan yang diinput ganjil atau genap\n",
        "\n",
        "# Membaca bilangan yang dimasukkan user\n",
        "bil = int(input(\"Masukkan sebuah bilangan:\"))\n",
        "\n",
        "# Proses untuk menentukan bilangan tersebut ganjil atau genap\n",
        "# Menggunakan operator modulus\n",
        "\n",
        "if bil % 2 == 1:\n",
        "  print(bil, \"adalah bilangan ganjil\")\n",
        "else:\n",
        "  print(bil, \"adalah bilangan genap\")"
      ],
      "execution_count": 1,
      "outputs": [
        {
          "output_type": "stream",
          "name": "stdout",
          "text": [
            "Masukkan sebuah bilangan:5\n",
            "5 adalah bilangan ganjil\n"
          ]
        }
      ]
    },
    {
      "cell_type": "markdown",
      "metadata": {
        "id": "WBKnKMGNphsp"
      },
      "source": [
        "**Menentukan suatu huruf vokal atau konsonan**"
      ]
    },
    {
      "cell_type": "code",
      "metadata": {
        "id": "1FIOWP2RpqvK",
        "colab": {
          "base_uri": "https://localhost:8080/"
        },
        "outputId": "700d96f2-6996-4c47-987e-ed1a416c401c"
      },
      "source": [
        "\n",
        "# Program untuk menentukan apakah huruf tersebut vokal atau konsonan\n",
        "# Dalam Ejaan Bahasa Inggris\n",
        "\n",
        "# Membaca huruf yang dimasukkan user\n",
        "hur= input(\"Masukkan sebuah huruf dari kumpulan abjad:\")\n",
        "\n",
        "#Proses menentukan huruf dan menampilkan hasilnya\n",
        "if hur ==\"a\" or hur == \"e\" or \\\n",
        "   hur ==\"i\" or hur == \"o\" or \\\n",
        "   hur ==\"u\":\n",
        "  print(\"Ini adalah vokal.\")\n",
        "elif hur ==\"y\":\n",
        "  print(\"Kadang vokal...kadang konsonan\")\n",
        "else:\n",
        "  print(\"Ini adalah konsonan.\")"
      ],
      "execution_count": 3,
      "outputs": [
        {
          "output_type": "stream",
          "name": "stdout",
          "text": [
            "Masukkan sebuah huruf dari kumpulan abjad:R\n",
            "Ini adalah konsonan.\n"
          ]
        }
      ]
    },
    {
      "cell_type": "markdown",
      "metadata": {
        "id": "nDaOdiH5-yhD"
      },
      "source": [
        "**Program Menentukan nama Ukuran geometri berdasarkan sisinya**"
      ]
    },
    {
      "cell_type": "code",
      "metadata": {
        "id": "W8q0x8Bf_DeJ",
        "colab": {
          "base_uri": "https://localhost:8080/"
        },
        "outputId": "178dfbbc-ed0b-4ccb-f807-831275c0c8b4"
      },
      "source": [
        "\n",
        "# Menampilkan nama ukuran geometri berdasarkan jumlah sisi yang diinput\n",
        "\n",
        "# Membaca jumlah sisi yang diinput oleh user\n",
        "sisi = int(input(\"Masukkan jumlah sisinya:\"))\n",
        "\n",
        "# Menampilkan nama ukuran geometri tersebut\n",
        "nama = \"\"\n",
        "if sisi == 3:\n",
        "  nama = \"triangle\"\n",
        "elif sisi == 4:\n",
        "  nama = \"quadrilateral\"\n",
        "elif sisi == 5:\n",
        "  nama = \"pentagon\"\n",
        "elif sisi == 6:\n",
        "  nama = \"hexagon\"\n",
        "elif sisi == 7:\n",
        "  nama = \"heptagon\"\n",
        "elif sisi == 8:\n",
        "  nama = \"ocatagon\"\n",
        "elif sisi == 9:\n",
        "  nama = \"nonagon\"\n",
        "elif sisi == 10:\n",
        "  nama = \"decagon\"\n",
        "\n",
        "# Menampilkan pesan kesalahan atau nama dari ruang geometri\n",
        "if nama == \"\":\n",
        "  print(\"Jumlah sisi yang diinput tidak ada dalam database\")\n",
        "else:\n",
        "  print(\"Ini adalah\", nama)\n",
        "\n"
      ],
      "execution_count": 4,
      "outputs": [
        {
          "output_type": "stream",
          "name": "stdout",
          "text": [
            "Masukkan jumlah sisinya:4\n",
            "Ini adalah quadrilateral\n"
          ]
        }
      ]
    },
    {
      "cell_type": "markdown",
      "metadata": {
        "id": "q4C4a_d6BX2I"
      },
      "source": [
        "**Program menampilkan 4 musim berdasarkan bulan dan tanggal**"
      ]
    },
    {
      "cell_type": "code",
      "metadata": {
        "id": "JepRvwHdBgqQ",
        "colab": {
          "base_uri": "https://localhost:8080/"
        },
        "outputId": "f82b15fb-f855-46c3-8110-d9c6fcdc51a0"
      },
      "source": [
        "\n",
        "# Menentukan dan menampilkan nama musim berdasarkan tanggal\n",
        "\n",
        "# Membaca tanggal yang diinput oleh user\n",
        "bulan = input(\"masukkan nama bulan:\")\n",
        "tgl = int(input(\"masukkan tanggal dibulan tersebut:\"))\n",
        "\n",
        "# Proses menentukan nama musim\n",
        "if bulan == \"Januari\" or bulan ==\"Februari\":\n",
        "  musim = \"Winter\"\n",
        "elif bulan == \"Maret\":\n",
        "  if tgl < 20:\n",
        "    musim = \"Winter\"\n",
        "  else:\n",
        "    musim = \"Spring\"\n",
        "elif bulan ==\"April\" or bulan == \"Mei\":\n",
        "  musim = \"Spring\"\n",
        "elif bulan == \"Juni\":\n",
        "  if tgl < 21:\n",
        "    musim = \"Spring\"\n",
        "  else:\n",
        "    musim = \"Summer\"\n",
        "elif bulan ==\"Juli\" or bulan == \"Agustus\":\n",
        "  musim = \"Summer\"\n",
        "elif bulan == \"September\":\n",
        "   if tgl < 22:\n",
        "     musim = \"Summer\"\n",
        "   else:\n",
        "     musim = \"Fall\"\n",
        "elif bulan ==\"Oktober\" or bulan == \"November\":\n",
        "  musim = \"Fall\"\n",
        "elif bulan == \"Desember\":\n",
        "    if tgl < 21:\n",
        "      musim = \"Fall\"\n",
        "    else:\n",
        "      musim = \"Winter\"\n",
        "\n",
        "# Tampilkan hasil\n",
        "print(tgl, bulan, \"adalah dalam musim\", musim)"
      ],
      "execution_count": 8,
      "outputs": [
        {
          "output_type": "stream",
          "name": "stdout",
          "text": [
            "masukkan nama bulan:Oktober\n",
            "masukkan tanggal dibulan tersebut:20\n",
            "20 Oktober adalah dalam musim Fall\n"
          ]
        }
      ]
    },
    {
      "cell_type": "code",
      "metadata": {
        "id": "0wqWXuuJiw2N"
      },
      "source": [],
      "execution_count": 8,
      "outputs": []
    }
  ]
}