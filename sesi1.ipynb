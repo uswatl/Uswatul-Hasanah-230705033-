{
  "nbformat": 4,
  "nbformat_minor": 0,
  "metadata": {
    "colab": {
      "name": "sesi1.ipynb",
      "provenance": [],
      "include_colab_link": true
    },
    "kernelspec": {
      "name": "python3",
      "display_name": "Python 3"
    }
  },
  "cells": [
    {
      "cell_type": "markdown",
      "metadata": {
        "id": "view-in-github",
        "colab_type": "text"
      },
      "source": [
        "<a href=\"https://colab.research.google.com/github/uswatl/Uswatul-Hasanah-230705033-/blob/main/sesi1.ipynb\" target=\"_parent\"><img src=\"https://colab.research.google.com/assets/colab-badge.svg\" alt=\"Open In Colab\"/></a>"
      ]
    },
    {
      "cell_type": "markdown",
      "metadata": {
        "id": "GiSc_8aXHQSf"
      },
      "source": [
        "Menggunakan sintaks print"
      ]
    },
    {
      "cell_type": "code",
      "metadata": {
        "id": "x8gH7SdYHa8M",
        "colab": {
          "base_uri": "https://localhost:8080/"
        },
        "outputId": "95e2c438-9ee6-43b7-efc6-8032e1a2ae95"
      },
      "source": [
        "\n",
        "# Menampilkan alamat lengkap seseorang\n",
        "print(\"Uswatul Hasanah\")\n",
        "print(\"Department of Information Technology\")\n",
        "print(\"UIN Ar-Raniry\")\n",
        "print(\"Jalan Seroja lr.4,Ie masen kayee adang\")\n",
        "print(\"Banda Aceh 23116\")\n",
        "print(\"Indonesia\")"
      ],
      "execution_count": 2,
      "outputs": [
        {
          "output_type": "stream",
          "name": "stdout",
          "text": [
            "Uswatul Hasanah\n",
            "Department of Information Technology\n",
            "UIN Ar-Raniry\n",
            "Jalan Seroja lr.4,Ie masen kayee adang\n",
            "Banda Aceh 23116\n",
            "Indonesia\n"
          ]
        }
      ]
    },
    {
      "cell_type": "markdown",
      "metadata": {
        "id": "7tiu0HF_IRoo"
      },
      "source": [
        "Menghitung luas kamar"
      ]
    },
    {
      "cell_type": "code",
      "metadata": {
        "id": "uYw5THVfIV86",
        "colab": {
          "base_uri": "https://localhost:8080/"
        },
        "outputId": "149df27c-b090-458d-8f6c-3597d2ea0d6c"
      },
      "source": [
        "\n",
        "# Menghitung luas kamar\n",
        "# Membaca angka yang dimasukkan oleh user\n",
        "panjang = float(input(\"Masukkan ukuran panjang dalam satuan meter \"))\n",
        "lebar = float(input(\"Masukkan ukuran lebar dalam satuan meter \"))\n",
        "\n",
        "# Proses perhitungan luas\n",
        "luas = panjang * lebar\n",
        "\n",
        "# Tampilkan hasil\n",
        "print(\"Luas dari kamar ini adalah\", luas, \"meter kuadrat\")\n"
      ],
      "execution_count": 3,
      "outputs": [
        {
          "output_type": "stream",
          "name": "stdout",
          "text": [
            "Masukkan ukuran panjang dalam satuan meter 8\n",
            "Masukkan ukuran lebar dalam satuan meter 5\n",
            "Luas dari kamar ini adalah 40.0 meter kuadrat\n"
          ]
        }
      ]
    },
    {
      "cell_type": "markdown",
      "metadata": {
        "id": "trRLS1YcKshT"
      },
      "source": [
        "Menghitung jumlah dari suatu bilangan"
      ]
    },
    {
      "cell_type": "code",
      "metadata": {
        "id": "RYfwo6chK1HJ",
        "colab": {
          "base_uri": "https://localhost:8080/"
        },
        "outputId": "624fcfe9-b786-45d6-d321-69b8a31ce914"
      },
      "source": [
        "\n",
        "# Menghitung jumlah dari bilangan positif pertama\n",
        "# Membaca angka yang dimasukkan oleh user\n",
        "n = int(input(\"Masukkan bilangan bulat positif:\"))\n",
        "\n",
        "# Proses Menghitung jumlah\n",
        "sm = n * (n+1) / 2\n",
        "\n",
        "# Tampilkan hasil\n",
        "print(\"Jumlah pertama dari \", n, \"bilangan positif adalah\", sm)"
      ],
      "execution_count": 4,
      "outputs": [
        {
          "output_type": "stream",
          "name": "stdout",
          "text": [
            "Masukkan bilangan bulat positif:6\n",
            "Jumlah pertama dari  6 bilangan positif adalah 21.0\n"
          ]
        }
      ]
    },
    {
      "cell_type": "markdown",
      "metadata": {
        "id": "k7tQ6AlASXqA"
      },
      "source": [
        "Mengenal fungsi aritmatika"
      ]
    },
    {
      "cell_type": "code",
      "metadata": {
        "id": "TXs5C5EnSW7r",
        "colab": {
          "base_uri": "https://localhost:8080/"
        },
        "outputId": "f01521d9-9cab-4f6b-89cd-2cf3f8bdb24c"
      },
      "source": [
        "\n",
        "# Pengenalan operator matematika pada Python dan modul math\n",
        "\n",
        "from math import log10\n",
        "\n",
        "# Membaca input dari user\n",
        "x = int (input(\"Masukkan bilangan dari x:\"))\n",
        "y = int (input(\"Masukkan bilangan dari y:\"))\n",
        "\n",
        "# Menghitung dan menampilkan operator matematika\n",
        "print(x, \"+\", y, \"adalah\", x + y)\n",
        "print(x, \"-\", y, \"adalah\", x - y)\n",
        "print(x, \"*\", y, \"adalah\", x * y)\n",
        "print(x, \"/\", y, \"adalah\", x / y)\n",
        "print(x, \"%\", y, \"adalah\", x % y)\n",
        "\n",
        "# Menghitung logaritma dan pangkat\n",
        "print(\"Logaritma basis 10 dari\", x, \"adalah\", log10(x))\n",
        "print(x, \"^\", y, \"adalah\", x**y)\n"
      ],
      "execution_count": 6,
      "outputs": [
        {
          "output_type": "stream",
          "name": "stdout",
          "text": [
            "Masukkan bilangan dari x:22\n",
            "Masukkan bilangan dari y:7\n",
            "22 + 7 adalah 29\n",
            "22 - 7 adalah 15\n",
            "22 * 7 adalah 154\n",
            "22 / 7 adalah 3.142857142857143\n",
            "22 % 7 adalah 1\n",
            "Logaritma basis 10 dari 22 adalah 1.3424226808222062\n",
            "22 ^ 7 adalah 2494357888\n"
          ]
        }
      ]
    }
  ]
}