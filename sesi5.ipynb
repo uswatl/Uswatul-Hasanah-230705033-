{
  "nbformat": 4,
  "nbformat_minor": 0,
  "metadata": {
    "colab": {
      "name": "sesi5.ipynb",
      "provenance": [],
      "include_colab_link": true
    },
    "kernelspec": {
      "name": "python3",
      "display_name": "Python 3"
    }
  },
  "cells": [
    {
      "cell_type": "markdown",
      "metadata": {
        "id": "view-in-github",
        "colab_type": "text"
      },
      "source": [
        "<a href=\"https://colab.research.google.com/github/uswatl/Uswatul-Hasanah-230705033-/blob/main/sesi5.ipynb\" target=\"_parent\"><img src=\"https://colab.research.google.com/assets/colab-badge.svg\" alt=\"Open In Colab\"/></a>"
      ]
    },
    {
      "cell_type": "markdown",
      "metadata": {
        "id": "2HJ7cUMhuNSF"
      },
      "source": [
        "**Program Membuat List**"
      ]
    },
    {
      "cell_type": "code",
      "metadata": {
        "id": "59I2hs4QqfCE",
        "colab": {
          "base_uri": "https://localhost:8080/"
        },
        "outputId": "81212d7f-07e4-411d-8af6-5bb23ef1d36f"
      },
      "source": [
        "# Pembuatan list pada bahasa pemrograman python\n",
        "list1 = [\"a\", \"b\", \"c\", \"d\"]\n",
        "list2 = ['bahasa arab', 'bahasa aceh', 2019, 2020]\n",
        "list3 = [1, 2, 3, 4, 5, 6, 7 ]\n",
        "\n",
        "\n",
        "# Mengakses Nilai list dalam Python\n",
        "print (\"list1[2]: \", list1[2])\n",
        "print (\"list2[0:4]: \", list2[0:4])\n",
        "print (\"list3[1:5]: \", list3[1:6])"
      ],
      "execution_count": 7,
      "outputs": [
        {
          "output_type": "stream",
          "name": "stdout",
          "text": [
            "list1[2]:  c\n",
            "list2[0:4]:  ['bahasa arab', 'bahasa aceh', 2019, 2020]\n",
            "list3[1:5]:  [2, 3, 4, 5, 6]\n"
          ]
        }
      ]
    },
    {
      "cell_type": "markdown",
      "metadata": {
        "id": "ePzepubIw6G_"
      },
      "source": [
        "**Mengupdate Nilai pada List**"
      ]
    },
    {
      "cell_type": "code",
      "metadata": {
        "id": "Ef3FQ2Nnw9Pj",
        "colab": {
          "base_uri": "https://localhost:8080/"
        },
        "outputId": "528b8a21-b44f-4309-fb52-469ad19db9b6"
      },
      "source": [
        "# Pembuatan list dan mengakses nilai list pada indeks 2\n",
        "list = ['bahasa arab', 'bahasa aceh', 2019, 2020]\n",
        "print (\"Nilai ada pada index 2 adalah: \", list[2])\n",
        "\n",
        "# Proses Update nilai list pada indeks 2\n",
        "list[2] = 2018\n",
        "print (\"Nilai baru ada pada index 2 adalah: \", list[2])"
      ],
      "execution_count": 8,
      "outputs": [
        {
          "output_type": "stream",
          "name": "stdout",
          "text": [
            "Nilai ada pada index 2 adalah:  2019\n",
            "Nilai baru ada pada index 2 adalah:  2018\n"
          ]
        }
      ]
    },
    {
      "cell_type": "markdown",
      "metadata": {
        "id": "ztC0UcO7zsyw"
      },
      "source": [
        "**Menghapus Nilai pada List**"
      ]
    },
    {
      "cell_type": "code",
      "metadata": {
        "id": "aT7iJAdvz0FX",
        "colab": {
          "base_uri": "https://localhost:8080/"
        },
        "outputId": "10948761-821e-4358-ec9d-85a47c2df238"
      },
      "source": [
        "# Pembuatan list\n",
        "list = ['bahasa arab', 'bahasa aceh', 2019, 2020]\n",
        "print (\"Daftar list sebelum dihapus:\", list)\n",
        "\n",
        "# Proses menghapus nilai List pada indeks 1\n",
        "del list[1]\n",
        "print (\"Setelah dihapus nilai pada index 1 : \", list)"
      ],
      "execution_count": 9,
      "outputs": [
        {
          "output_type": "stream",
          "name": "stdout",
          "text": [
            "Daftar list sebelum dihapus: ['bahasa arab', 'bahasa aceh', 2019, 2020]\n",
            "Setelah dihapus nilai pada index 1 :  ['bahasa arab', 2019, 2020]\n"
          ]
        }
      ]
    }
  ]
}