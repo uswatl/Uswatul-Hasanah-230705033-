{
  "nbformat": 4,
  "nbformat_minor": 0,
  "metadata": {
    "colab": {
      "name": "sesi3.ipynb",
      "provenance": [],
      "include_colab_link": true
    },
    "kernelspec": {
      "name": "python3",
      "display_name": "Python 3"
    }
  },
  "cells": [
    {
      "cell_type": "markdown",
      "metadata": {
        "id": "view-in-github",
        "colab_type": "text"
      },
      "source": [
        "<a href=\"https://colab.research.google.com/github/uswatl/Uswatul-Hasanah-230705033-/blob/main/sesi3.ipynb\" target=\"_parent\"><img src=\"https://colab.research.google.com/assets/colab-badge.svg\" alt=\"Open In Colab\"/></a>"
      ]
    },
    {
      "cell_type": "markdown",
      "metadata": {
        "id": "HdQHl1DnS307"
      },
      "source": [
        "**Contoh sederhana perulangan for**"
      ]
    },
    {
      "cell_type": "code",
      "metadata": {
        "id": "UBsWfjkUS1ea",
        "colab": {
          "base_uri": "https://localhost:8080/"
        },
        "outputId": "4a35ff47-3c16-44b2-b2a2-111d0b15d607"
      },
      "source": [
        "# Deklarasi variabel contoh dan 10 itu sebagai tanda 10 kali perulangan\n",
        "contoh = 8\n",
        "\n",
        "# Variabel i berfungsi untuk menampung indeks,\n",
        "# dan fungsi range() berfungsi untuk membuat list dari 0-10.\n",
        "for i in range(contoh):\n",
        "    print (\"Perulangan ke-\" +str(i))"
      ],
      "execution_count": 3,
      "outputs": [
        {
          "output_type": "stream",
          "name": "stdout",
          "text": [
            "Perulangan ke-0\n",
            "Perulangan ke-1\n",
            "Perulangan ke-2\n",
            "Perulangan ke-3\n",
            "Perulangan ke-4\n",
            "Perulangan ke-5\n",
            "Perulangan ke-6\n",
            "Perulangan ke-7\n"
          ]
        }
      ]
    },
    {
      "cell_type": "code",
      "metadata": {
        "id": "5S1oZePQXuI7",
        "colab": {
          "base_uri": "https://localhost:8080/"
        },
        "outputId": "3dc485f3-65cd-475d-f075-a6828fa354ad"
      },
      "source": [
        "# Menampilkan range dari kumpulan deret tertentu\n",
        "# range(5,10) akan membuat deret angka mulai dari 5, 6, 7, 8, dan 9.\n",
        "\n",
        "for i in range(1,8):\n",
        "  print(i)"
      ],
      "execution_count": 5,
      "outputs": [
        {
          "output_type": "stream",
          "name": "stdout",
          "text": [
            "1\n",
            "2\n",
            "3\n",
            "4\n",
            "5\n",
            "6\n",
            "7\n"
          ]
        }
      ]
    },
    {
      "cell_type": "markdown",
      "metadata": {
        "id": "APu2517GUHmf"
      },
      "source": [
        "**Contoh menampilkan isi dalam body perulangan**"
      ]
    },
    {
      "cell_type": "code",
      "metadata": {
        "id": "XD8LlLIAUHMB",
        "colab": {
          "base_uri": "https://localhost:8080/"
        },
        "outputId": "ba0f3923-e86b-472a-dc67-0a9298e7c424"
      },
      "source": [
        "# Deklarasi variabel contoh2 dengan tipe list\n",
        "contoh2 = ['saya','berkuliah','di','universitas', 'UIN ar-raniry']\n",
        "\n",
        "for isi in contoh2:\n",
        "    print (isi)"
      ],
      "execution_count": 8,
      "outputs": [
        {
          "output_type": "stream",
          "name": "stdout",
          "text": [
            "saya\n",
            "berkuliah\n",
            "di\n",
            "universitas\n",
            "UIN ar-raniry\n"
          ]
        }
      ]
    },
    {
      "cell_type": "markdown",
      "metadata": {
        "id": "40KiZwfwU-yo"
      },
      "source": [
        "**Contoh menggunakan while**"
      ]
    },
    {
      "cell_type": "code",
      "metadata": {
        "id": "DuPUSTlcVD5a",
        "colab": {
          "base_uri": "https://localhost:8080/"
        },
        "outputId": "26b3285a-4f5f-4447-e588-0a1d57ea7434"
      },
      "source": [
        "# Deklarasi variabel hit\n",
        "hit = 0\n",
        "# Membuat kondisi\n",
        "while (hit < 5):\n",
        "    print(hit, \"kurang dari 10\")\n",
        "    hit = hit + 1\n",
        "else:\n",
        "# Menampilkan output salam jika kondisi sudah terpenuhi\n",
        "    print(\"Salam\")"
      ],
      "execution_count": 10,
      "outputs": [
        {
          "output_type": "stream",
          "name": "stdout",
          "text": [
            "0 kurang dari 10\n",
            "1 kurang dari 10\n",
            "2 kurang dari 10\n",
            "3 kurang dari 10\n",
            "4 kurang dari 10\n",
            "Salam\n"
          ]
        }
      ]
    },
    {
      "cell_type": "markdown",
      "metadata": {
        "id": "f2KqONtGF5ll"
      },
      "source": [
        "**Program Menghitung Harga Tiket Masuk**"
      ]
    },
    {
      "cell_type": "code",
      "metadata": {
        "id": "JWRgH3jFDAxD",
        "colab": {
          "base_uri": "https://localhost:8080/"
        },
        "outputId": "103ef798-e4e0-4a09-b77e-a6aa60bb6507"
      },
      "source": [
        "\n",
        "# Program menghitung Faktor Persekutuan Terbesa\n",
        "\n",
        "# Membaca dua bilangan positif dari user\n",
        "n = int(input(\"Masukkan bilangan positif:\"))\n",
        "m = int(input(\"Masukkan bilangan positif:\"))\n",
        "\n",
        "# Inisialisasi variabel untuk nilai terkecil dari n dan m\n",
        "d = min(n, m)\n",
        "\n",
        "# Gunakan loop while untuk mencari FPT\n",
        "while n % d != 0 or m % d != 0:\n",
        "  d = d - 1\n",
        "\n",
        "# Menampilkan hasil\n",
        "print(\"Faktor persekutuan terbesar dari\", n, \"dan\", m, \" adalah\", d)\n",
        "\n"
      ],
      "execution_count": 13,
      "outputs": [
        {
          "output_type": "stream",
          "name": "stdout",
          "text": [
            "Masukkan bilangan positif:100\n",
            "Masukkan bilangan positif:30\n",
            "Faktor persekutuan terbesar dari 100 dan 30  adalah 10\n"
          ]
        }
      ]
    },
    {
      "cell_type": "markdown",
      "metadata": {
        "id": "6ziy9uooNU1w"
      },
      "source": [
        "**Program Mencari Nilai Maksimum dari 100 bilangan bulat**"
      ]
    },
    {
      "cell_type": "code",
      "metadata": {
        "id": "VMV99NcTNUEu",
        "colab": {
          "base_uri": "https://localhost:8080/"
        },
        "outputId": "3d03a229-f85f-4356-9a37-3c8d7d3d5f1b"
      },
      "source": [
        "\n",
        "# Menentukan nilai maksimum 100 bilangan bulat, menghitung berapa kali\n",
        "# perulangan\n",
        "\n",
        "from random import randrange\n",
        "\n",
        "BIL_ITEMS = 100\n",
        "\n",
        "# Generate the first number and menampilkan nya\n",
        "maks_nilai = randrange(1, BIL_ITEMS + 1)\n",
        "print(maks_nilai)\n",
        "\n",
        "# Menghitung berapa kali perubahan\n",
        "bil_update = 0\n",
        "\n",
        "# Untuk setiap bilangan\n",
        "for i in range(1, BIL_ITEMS):\n",
        "  # Generate bilangan acak\n",
        "  current = randrange(1, BIL_ITEMS + 1)\n",
        "\n",
        "  # Kondisi jika ditemukan bilangan terbesar\n",
        "  if current > maks_nilai:\n",
        "    # Update nilai maksimum dan hitung perubahan\n",
        "    maks_nilai = current\n",
        "    bil_update = bil_update + 1\n",
        "    # Tampilkan bilangan jika masih ada proses update\n",
        "    print(current, \"<== Update\")\n",
        "  else:\n",
        "    #Tampilkan bilangan\n",
        "    print(current)\n",
        "\n",
        "# Tampilkan Hasil Terakhir\n",
        "print(\" Nilai maksimum yang ditemukan adalah\", maks_nilai)\n",
        "print(\"Nilai maksimum yang di-update\", bil_update, \"kali\")"
      ],
      "execution_count": 14,
      "outputs": [
        {
          "output_type": "stream",
          "name": "stdout",
          "text": [
            "53\n",
            "9\n",
            "45\n",
            "73 <== Update\n",
            "40\n",
            "9\n",
            "94 <== Update\n",
            "50\n",
            "54\n",
            "10\n",
            "49\n",
            "76\n",
            "53\n",
            "29\n",
            "5\n",
            "58\n",
            "38\n",
            "7\n",
            "57\n",
            "35\n",
            "84\n",
            "26\n",
            "89\n",
            "39\n",
            "47\n",
            "30\n",
            "35\n",
            "34\n",
            "88\n",
            "19\n",
            "41\n",
            "92\n",
            "56\n",
            "43\n",
            "69\n",
            "87\n",
            "17\n",
            "59\n",
            "12\n",
            "77\n",
            "58\n",
            "59\n",
            "10\n",
            "28\n",
            "91\n",
            "86\n",
            "91\n",
            "100 <== Update\n",
            "91\n",
            "76\n",
            "1\n",
            "29\n",
            "78\n",
            "78\n",
            "3\n",
            "34\n",
            "38\n",
            "19\n",
            "70\n",
            "60\n",
            "7\n",
            "15\n",
            "98\n",
            "61\n",
            "48\n",
            "77\n",
            "20\n",
            "9\n",
            "31\n",
            "34\n",
            "14\n",
            "100\n",
            "53\n",
            "33\n",
            "7\n",
            "3\n",
            "51\n",
            "58\n",
            "93\n",
            "35\n",
            "79\n",
            "17\n",
            "24\n",
            "7\n",
            "35\n",
            "73\n",
            "48\n",
            "24\n",
            "19\n",
            "54\n",
            "28\n",
            "99\n",
            "46\n",
            "34\n",
            "97\n",
            "75\n",
            "73\n",
            "80\n",
            "51\n",
            "7\n",
            " Nilai maksimum yang ditemukan adalah 100\n",
            "Nilai maksimum yang di-update 3 kali\n"
          ]
        }
      ]
    }
  ]
}